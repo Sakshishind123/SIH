{
 "cells": [
  {
   "cell_type": "code",
   "execution_count": 1,
   "id": "ea96fc8c",
   "metadata": {},
   "outputs": [],
   "source": [
    "import numpy as np\n",
    "import pandas as pd"
   ]
  },
  {
   "cell_type": "code",
   "execution_count": 2,
   "id": "0c9b02b0",
   "metadata": {},
   "outputs": [],
   "source": [
    "df = pd.read_csv(r\"C:/MajorProject/Freelance Platform Projects.csv\")"
   ]
  },
  {
   "cell_type": "code",
   "execution_count": 3,
   "id": "e84b71b6",
   "metadata": {},
   "outputs": [
    {
     "data": {
      "text/html": [
       "<div>\n",
       "<style scoped>\n",
       "    .dataframe tbody tr th:only-of-type {\n",
       "        vertical-align: middle;\n",
       "    }\n",
       "\n",
       "    .dataframe tbody tr th {\n",
       "        vertical-align: top;\n",
       "    }\n",
       "\n",
       "    .dataframe thead th {\n",
       "        text-align: right;\n",
       "    }\n",
       "</style>\n",
       "<table border=\"1\" class=\"dataframe\">\n",
       "  <thead>\n",
       "    <tr style=\"text-align: right;\">\n",
       "      <th></th>\n",
       "      <th>Title</th>\n",
       "      <th>Category Name</th>\n",
       "      <th>Experience</th>\n",
       "      <th>Sub Category Name</th>\n",
       "      <th>Currency</th>\n",
       "      <th>Budget</th>\n",
       "      <th>Location</th>\n",
       "      <th>Freelancer Preferred From</th>\n",
       "      <th>Type</th>\n",
       "      <th>Date Posted</th>\n",
       "      <th>Description</th>\n",
       "      <th>Duration</th>\n",
       "      <th>Client Registration Date</th>\n",
       "      <th>Client City</th>\n",
       "      <th>Client Country</th>\n",
       "      <th>Client Currency</th>\n",
       "      <th>Client Job Title</th>\n",
       "    </tr>\n",
       "  </thead>\n",
       "  <tbody>\n",
       "    <tr>\n",
       "      <th>4734</th>\n",
       "      <td>I need an animated explainer video</td>\n",
       "      <td>Design</td>\n",
       "      <td>Expert ($$$)</td>\n",
       "      <td>Animation</td>\n",
       "      <td>GBP</td>\n",
       "      <td>300</td>\n",
       "      <td>remote</td>\n",
       "      <td>ALL</td>\n",
       "      <td>fixed_price</td>\n",
       "      <td>17-03-2023 12:54</td>\n",
       "      <td>We are looking to have an explainer video made...</td>\n",
       "      <td>NaN</td>\n",
       "      <td>15-03-2023</td>\n",
       "      <td>Liverpool</td>\n",
       "      <td>United Kingdom</td>\n",
       "      <td>GBP</td>\n",
       "      <td>Marketing Admin</td>\n",
       "    </tr>\n",
       "    <tr>\n",
       "      <th>9447</th>\n",
       "      <td>Need CD / Album Cover Art</td>\n",
       "      <td>Video, Photo &amp; Image</td>\n",
       "      <td>Entry ($)</td>\n",
       "      <td>Image Editing</td>\n",
       "      <td>USD</td>\n",
       "      <td>40</td>\n",
       "      <td>remote</td>\n",
       "      <td>ALL</td>\n",
       "      <td>fixed_price</td>\n",
       "      <td>09-02-2023 03:08</td>\n",
       "      <td>I have a picture that I need to be corrected a...</td>\n",
       "      <td>less than 1 week</td>\n",
       "      <td>09-11-2016</td>\n",
       "      <td>Miami</td>\n",
       "      <td>United States</td>\n",
       "      <td>USD</td>\n",
       "      <td>Lil Boss Man</td>\n",
       "    </tr>\n",
       "    <tr>\n",
       "      <th>6637</th>\n",
       "      <td>Administrative Assistant (junior HR) / Remote</td>\n",
       "      <td>Business</td>\n",
       "      <td>Expert ($$$)</td>\n",
       "      <td>Administration Assistance</td>\n",
       "      <td>GBP</td>\n",
       "      <td>167</td>\n",
       "      <td>remote</td>\n",
       "      <td>ALL</td>\n",
       "      <td>fixed_price</td>\n",
       "      <td>02-03-2023 14:42</td>\n",
       "      <td>Works as an integral part of the Human Resourc...</td>\n",
       "      <td>NaN</td>\n",
       "      <td>02-03-2023</td>\n",
       "      <td>London</td>\n",
       "      <td>United Kingdom</td>\n",
       "      <td>GBP</td>\n",
       "      <td>NaN</td>\n",
       "    </tr>\n",
       "    <tr>\n",
       "      <th>269</th>\n",
       "      <td>RIP and ROLL</td>\n",
       "      <td>Design</td>\n",
       "      <td>Expert ($$$)</td>\n",
       "      <td>Graphic Design</td>\n",
       "      <td>GBP</td>\n",
       "      <td>88</td>\n",
       "      <td>remote</td>\n",
       "      <td>ALL</td>\n",
       "      <td>fixed_price</td>\n",
       "      <td>26-04-2023 13:46</td>\n",
       "      <td>We are looking for 2 cartoon style characters ...</td>\n",
       "      <td>NaN</td>\n",
       "      <td>23-10-2020</td>\n",
       "      <td>Cheltenham</td>\n",
       "      <td>United Kingdom</td>\n",
       "      <td>GBP</td>\n",
       "      <td>NaN</td>\n",
       "    </tr>\n",
       "    <tr>\n",
       "      <th>4883</th>\n",
       "      <td>Rear extension drawings</td>\n",
       "      <td>Design</td>\n",
       "      <td>Entry ($)</td>\n",
       "      <td>Interior/Exterior Design</td>\n",
       "      <td>GBP</td>\n",
       "      <td>20</td>\n",
       "      <td>remote</td>\n",
       "      <td>ALL</td>\n",
       "      <td>fixed_price</td>\n",
       "      <td>16-03-2023 13:16</td>\n",
       "      <td>Hello \\n\\nI need someone to help me design and...</td>\n",
       "      <td>NaN</td>\n",
       "      <td>18-04-2016</td>\n",
       "      <td>Megara</td>\n",
       "      <td>Greece</td>\n",
       "      <td>GBP</td>\n",
       "      <td>Interior designer</td>\n",
       "    </tr>\n",
       "  </tbody>\n",
       "</table>\n",
       "</div>"
      ],
      "text/plain": [
       "                                              Title         Category Name  \\\n",
       "4734             I need an animated explainer video                Design   \n",
       "9447                      Need CD / Album Cover Art  Video, Photo & Image   \n",
       "6637  Administrative Assistant (junior HR) / Remote              Business   \n",
       "269                                    RIP and ROLL                Design   \n",
       "4883                        Rear extension drawings                Design   \n",
       "\n",
       "        Experience          Sub Category Name Currency  Budget Location  \\\n",
       "4734  Expert ($$$)                  Animation      GBP     300   remote   \n",
       "9447     Entry ($)              Image Editing      USD      40   remote   \n",
       "6637  Expert ($$$)  Administration Assistance      GBP     167   remote   \n",
       "269   Expert ($$$)             Graphic Design      GBP      88   remote   \n",
       "4883     Entry ($)   Interior/Exterior Design      GBP      20   remote   \n",
       "\n",
       "     Freelancer Preferred From         Type       Date Posted  \\\n",
       "4734                       ALL  fixed_price  17-03-2023 12:54   \n",
       "9447                       ALL  fixed_price  09-02-2023 03:08   \n",
       "6637                       ALL  fixed_price  02-03-2023 14:42   \n",
       "269                        ALL  fixed_price  26-04-2023 13:46   \n",
       "4883                       ALL  fixed_price  16-03-2023 13:16   \n",
       "\n",
       "                                            Description          Duration  \\\n",
       "4734  We are looking to have an explainer video made...               NaN   \n",
       "9447  I have a picture that I need to be corrected a...  less than 1 week   \n",
       "6637  Works as an integral part of the Human Resourc...               NaN   \n",
       "269   We are looking for 2 cartoon style characters ...               NaN   \n",
       "4883  Hello \\n\\nI need someone to help me design and...               NaN   \n",
       "\n",
       "     Client Registration Date Client City  Client Country Client Currency  \\\n",
       "4734               15-03-2023   Liverpool  United Kingdom             GBP   \n",
       "9447               09-11-2016       Miami   United States             USD   \n",
       "6637               02-03-2023      London  United Kingdom             GBP   \n",
       "269                23-10-2020  Cheltenham  United Kingdom             GBP   \n",
       "4883               18-04-2016      Megara          Greece             GBP   \n",
       "\n",
       "       Client Job Title  \n",
       "4734    Marketing Admin  \n",
       "9447       Lil Boss Man  \n",
       "6637                NaN  \n",
       "269                 NaN  \n",
       "4883  Interior designer  "
      ]
     },
     "execution_count": 3,
     "metadata": {},
     "output_type": "execute_result"
    }
   ],
   "source": [
    "df.sample(5)"
   ]
  },
  {
   "cell_type": "code",
   "execution_count": 4,
   "id": "1cfd2db2",
   "metadata": {},
   "outputs": [
    {
     "name": "stdout",
     "output_type": "stream",
     "text": [
      "<class 'pandas.core.frame.DataFrame'>\n",
      "RangeIndex: 12222 entries, 0 to 12221\n",
      "Data columns (total 17 columns):\n",
      " #   Column                     Non-Null Count  Dtype \n",
      "---  ------                     --------------  ----- \n",
      " 0   Title                      12222 non-null  object\n",
      " 1   Category Name              12222 non-null  object\n",
      " 2   Experience                 12222 non-null  object\n",
      " 3   Sub Category Name          12222 non-null  object\n",
      " 4   Currency                   12222 non-null  object\n",
      " 5   Budget                     12222 non-null  int64 \n",
      " 6   Location                   12222 non-null  object\n",
      " 7   Freelancer Preferred From  12222 non-null  object\n",
      " 8   Type                       12222 non-null  object\n",
      " 9   Date Posted                12222 non-null  object\n",
      " 10  Description                12222 non-null  object\n",
      " 11  Duration                   1602 non-null   object\n",
      " 12  Client Registration Date   12222 non-null  object\n",
      " 13  Client City                12222 non-null  object\n",
      " 14  Client Country             12222 non-null  object\n",
      " 15  Client Currency            12222 non-null  object\n",
      " 16  Client Job Title           4588 non-null   object\n",
      "dtypes: int64(1), object(16)\n",
      "memory usage: 1.6+ MB\n"
     ]
    }
   ],
   "source": [
    "df.info()"
   ]
  },
  {
   "cell_type": "code",
   "execution_count": 5,
   "id": "f51fcad9",
   "metadata": {},
   "outputs": [
    {
     "data": {
      "text/plain": [
       "(12222, 17)"
      ]
     },
     "execution_count": 5,
     "metadata": {},
     "output_type": "execute_result"
    }
   ],
   "source": [
    "df.shape"
   ]
  },
  {
   "cell_type": "markdown",
   "id": "e4ea2d17",
   "metadata": {},
   "source": [
    "## Data Cleaning"
   ]
  },
  {
   "cell_type": "code",
   "execution_count": 6,
   "id": "591eaa7b",
   "metadata": {},
   "outputs": [
    {
     "name": "stdout",
     "output_type": "stream",
     "text": [
      "(12222, 3)\n"
     ]
    }
   ],
   "source": [
    "df = df.drop(columns=['Currency', 'Location', 'Freelancer Preferred From', 'Date Posted',\n",
    "                      'Client Registration Date', 'Client City', 'Client Country', 'Client Job Title','Duration','Client Currency','Experience','Budget','Type','Description'])\n",
    "print(df.shape)"
   ]
  },
  {
   "cell_type": "code",
   "execution_count": 7,
   "id": "2925bad6",
   "metadata": {},
   "outputs": [
    {
     "data": {
      "text/plain": [
       "(12222, 3)"
      ]
     },
     "execution_count": 7,
     "metadata": {},
     "output_type": "execute_result"
    }
   ],
   "source": [
    "df.shape"
   ]
  },
  {
   "cell_type": "code",
   "execution_count": 8,
   "id": "d5a975a4",
   "metadata": {},
   "outputs": [
    {
     "name": "stdout",
     "output_type": "stream",
     "text": [
      "<class 'pandas.core.frame.DataFrame'>\n",
      "RangeIndex: 12222 entries, 0 to 12221\n",
      "Data columns (total 3 columns):\n",
      " #   Column             Non-Null Count  Dtype \n",
      "---  ------             --------------  ----- \n",
      " 0   Title              12222 non-null  object\n",
      " 1   Category Name      12222 non-null  object\n",
      " 2   Sub Category Name  12222 non-null  object\n",
      "dtypes: object(3)\n",
      "memory usage: 286.6+ KB\n"
     ]
    }
   ],
   "source": [
    "df.info()"
   ]
  },
  {
   "cell_type": "code",
   "execution_count": 9,
   "id": "0b40052f",
   "metadata": {},
   "outputs": [
    {
     "data": {
      "text/html": [
       "<div>\n",
       "<style scoped>\n",
       "    .dataframe tbody tr th:only-of-type {\n",
       "        vertical-align: middle;\n",
       "    }\n",
       "\n",
       "    .dataframe tbody tr th {\n",
       "        vertical-align: top;\n",
       "    }\n",
       "\n",
       "    .dataframe thead th {\n",
       "        text-align: right;\n",
       "    }\n",
       "</style>\n",
       "<table border=\"1\" class=\"dataframe\">\n",
       "  <thead>\n",
       "    <tr style=\"text-align: right;\">\n",
       "      <th></th>\n",
       "      <th>Title</th>\n",
       "      <th>Category Name</th>\n",
       "      <th>Sub Category Name</th>\n",
       "    </tr>\n",
       "  </thead>\n",
       "  <tbody>\n",
       "    <tr>\n",
       "      <th>5788</th>\n",
       "      <td>Logo Design - Pet Health</td>\n",
       "      <td>Design</td>\n",
       "      <td>Logo Design</td>\n",
       "    </tr>\n",
       "    <tr>\n",
       "      <th>10220</th>\n",
       "      <td>Paid advertising support - please read before ...</td>\n",
       "      <td>Digital Marketing</td>\n",
       "      <td>SEM, Adwords &amp; PPC</td>\n",
       "    </tr>\n",
       "    <tr>\n",
       "      <th>413</th>\n",
       "      <td>I need patterns made for a summer collection</td>\n",
       "      <td>Design</td>\n",
       "      <td>Fashion &amp; Clothing</td>\n",
       "    </tr>\n",
       "    <tr>\n",
       "      <th>2003</th>\n",
       "      <td>Business Growth Development</td>\n",
       "      <td>Business</td>\n",
       "      <td>Management &amp; Development</td>\n",
       "    </tr>\n",
       "    <tr>\n",
       "      <th>1361</th>\n",
       "      <td>Require a wordpress developer to get our JobAd...</td>\n",
       "      <td>Technology &amp; Programming</td>\n",
       "      <td>Programming &amp; Coding</td>\n",
       "    </tr>\n",
       "  </tbody>\n",
       "</table>\n",
       "</div>"
      ],
      "text/plain": [
       "                                                   Title  \\\n",
       "5788                            Logo Design - Pet Health   \n",
       "10220  Paid advertising support - please read before ...   \n",
       "413         I need patterns made for a summer collection   \n",
       "2003                         Business Growth Development   \n",
       "1361   Require a wordpress developer to get our JobAd...   \n",
       "\n",
       "                  Category Name         Sub Category Name  \n",
       "5788                     Design               Logo Design  \n",
       "10220         Digital Marketing        SEM, Adwords & PPC  \n",
       "413                      Design        Fashion & Clothing  \n",
       "2003                   Business  Management & Development  \n",
       "1361   Technology & Programming      Programming & Coding  "
      ]
     },
     "execution_count": 9,
     "metadata": {},
     "output_type": "execute_result"
    }
   ],
   "source": [
    "df.sample(5)"
   ]
  },
  {
   "cell_type": "code",
   "execution_count": 10,
   "id": "ae3ce448",
   "metadata": {},
   "outputs": [
    {
     "data": {
      "text/plain": [
       "553"
      ]
     },
     "execution_count": 10,
     "metadata": {},
     "output_type": "execute_result"
    }
   ],
   "source": [
    "df.duplicated().sum()"
   ]
  },
  {
   "cell_type": "code",
   "execution_count": 11,
   "id": "3dee38f6",
   "metadata": {},
   "outputs": [],
   "source": [
    "df = df.drop_duplicates()"
   ]
  },
  {
   "cell_type": "code",
   "execution_count": 12,
   "id": "b356b12d",
   "metadata": {},
   "outputs": [
    {
     "data": {
      "text/plain": [
       "0                    Banner images for web desgin websites\n",
       "1                      Make my picture a solid silhouette \n",
       "2                                        Bookkeeper needed\n",
       "3                                       Accountant needed \n",
       "4                            Guest Post on High DA Website\n",
       "                               ...                        \n",
       "12217    Published Travel Writer required for content c...\n",
       "12218    Shopify - Filtering Work (Product Selection/No...\n",
       "12219                                     Simple SQL Query\n",
       "12220    Create a Carbon, Water, Waste Calculating plat...\n",
       "12221                                    COMPANY REGISTERS\n",
       "Name: Title, Length: 11669, dtype: object"
      ]
     },
     "execution_count": 12,
     "metadata": {},
     "output_type": "execute_result"
    }
   ],
   "source": [
    "df['Title']"
   ]
  },
  {
   "cell_type": "code",
   "execution_count": 13,
   "id": "944bf67c",
   "metadata": {},
   "outputs": [
    {
     "data": {
      "text/plain": [
       "0                          Design\n",
       "1            Video, Photo & Image\n",
       "2                        Business\n",
       "3                        Business\n",
       "4               Digital Marketing\n",
       "                   ...           \n",
       "12217       Writing & Translation\n",
       "12218                      Design\n",
       "12219    Technology & Programming\n",
       "12220                      Design\n",
       "12221                    Business\n",
       "Name: Category Name, Length: 11669, dtype: object"
      ]
     },
     "execution_count": 13,
     "metadata": {},
     "output_type": "execute_result"
    }
   ],
   "source": [
    "df['Category Name']"
   ]
  },
  {
   "cell_type": "code",
   "execution_count": 14,
   "id": "70b5bd20",
   "metadata": {},
   "outputs": [
    {
     "name": "stderr",
     "output_type": "stream",
     "text": [
      "[nltk_data] Downloading package punkt to\n",
      "[nltk_data]     C:\\Users\\ishav\\AppData\\Roaming\\nltk_data...\n",
      "[nltk_data]   Package punkt is already up-to-date!\n",
      "[nltk_data] Downloading package stopwords to\n",
      "[nltk_data]     C:\\Users\\ishav\\AppData\\Roaming\\nltk_data...\n",
      "[nltk_data]   Package stopwords is already up-to-date!\n"
     ]
    },
    {
     "data": {
      "text/plain": [
       "True"
      ]
     },
     "execution_count": 14,
     "metadata": {},
     "output_type": "execute_result"
    }
   ],
   "source": [
    "import nltk\n",
    "from nltk.stem.porter import PorterStemmer\n",
    "from nltk.corpus import stopwords\n",
    "import re\n",
    "nltk.download('punkt')\n",
    "nltk.download('stopwords')"
   ]
  },
  {
   "cell_type": "code",
   "execution_count": 15,
   "id": "1e520ec7",
   "metadata": {},
   "outputs": [],
   "source": [
    "ps=PorterStemmer()"
   ]
  },
  {
   "cell_type": "code",
   "execution_count": 16,
   "id": "bc2ef018",
   "metadata": {},
   "outputs": [],
   "source": [
    "def cleaning(txt):\n",
    "  cleaned_txt=re.sub(r'[^a-zA-Z0-9\\s]','',txt)\n",
    "  # remove all except numbers and words\n",
    "  # word tokenization- all words in small letters\n",
    "  tokens=nltk.word_tokenize(cleaned_txt.lower())\n",
    "  # removing the stopwords-is this or loved love is love\n",
    "  stemming=[ps.stem(word) for word in tokens if word not in stopwords.words('english')]\n",
    "\n",
    "  return \" \".join(stemming)"
   ]
  },
  {
   "cell_type": "code",
   "execution_count": 17,
   "id": "9bc78a72",
   "metadata": {},
   "outputs": [
    {
     "data": {
      "text/plain": [
       "'isha love love flower love move bird'"
      ]
     },
     "execution_count": 17,
     "metadata": {},
     "output_type": "execute_result"
    }
   ],
   "source": [
    "cleaning('i am isha who loves loving flowers loved by moving birds')"
   ]
  },
  {
   "cell_type": "code",
   "execution_count": 18,
   "id": "ed147583",
   "metadata": {},
   "outputs": [],
   "source": [
    "df['Title']=df['Title'].apply(lambda x:cleaning(x))\n",
    "df['Category Name']=df['Category Name'].apply(lambda x:cleaning(x))\n",
    "df['Sub Category Name']=df['Sub Category Name'].apply(lambda x:cleaning(x))"
   ]
  },
  {
   "cell_type": "code",
   "execution_count": 19,
   "id": "bc958be0",
   "metadata": {},
   "outputs": [],
   "source": [
    "df['new_col']=df['Title']+\" \"+df['Category Name']+\" \"+df['Sub Category Name']"
   ]
  },
  {
   "cell_type": "code",
   "execution_count": 20,
   "id": "1814254f",
   "metadata": {},
   "outputs": [
    {
     "data": {
      "text/html": [
       "<div>\n",
       "<style scoped>\n",
       "    .dataframe tbody tr th:only-of-type {\n",
       "        vertical-align: middle;\n",
       "    }\n",
       "\n",
       "    .dataframe tbody tr th {\n",
       "        vertical-align: top;\n",
       "    }\n",
       "\n",
       "    .dataframe thead th {\n",
       "        text-align: right;\n",
       "    }\n",
       "</style>\n",
       "<table border=\"1\" class=\"dataframe\">\n",
       "  <thead>\n",
       "    <tr style=\"text-align: right;\">\n",
       "      <th></th>\n",
       "      <th>Title</th>\n",
       "      <th>Category Name</th>\n",
       "      <th>Sub Category Name</th>\n",
       "      <th>new_col</th>\n",
       "    </tr>\n",
       "  </thead>\n",
       "  <tbody>\n",
       "    <tr>\n",
       "      <th>0</th>\n",
       "      <td>banner imag web desgin websit</td>\n",
       "      <td>design</td>\n",
       "      <td>graphic design</td>\n",
       "      <td>banner imag web desgin websit design graphic d...</td>\n",
       "    </tr>\n",
       "    <tr>\n",
       "      <th>1</th>\n",
       "      <td>make pictur solid silhouett</td>\n",
       "      <td>video photo imag</td>\n",
       "      <td>imag edit</td>\n",
       "      <td>make pictur solid silhouett video photo imag i...</td>\n",
       "    </tr>\n",
       "    <tr>\n",
       "      <th>2</th>\n",
       "      <td>bookkeep need</td>\n",
       "      <td>busi</td>\n",
       "      <td>financ account</td>\n",
       "      <td>bookkeep need busi financ account</td>\n",
       "    </tr>\n",
       "  </tbody>\n",
       "</table>\n",
       "</div>"
      ],
      "text/plain": [
       "                           Title     Category Name Sub Category Name  \\\n",
       "0  banner imag web desgin websit            design    graphic design   \n",
       "1    make pictur solid silhouett  video photo imag         imag edit   \n",
       "2                  bookkeep need              busi    financ account   \n",
       "\n",
       "                                             new_col  \n",
       "0  banner imag web desgin websit design graphic d...  \n",
       "1  make pictur solid silhouett video photo imag i...  \n",
       "2                  bookkeep need busi financ account  "
      ]
     },
     "execution_count": 20,
     "metadata": {},
     "output_type": "execute_result"
    }
   ],
   "source": [
    "df.head(3)"
   ]
  },
  {
   "cell_type": "code",
   "execution_count": 21,
   "id": "4d627bfc",
   "metadata": {},
   "outputs": [],
   "source": [
    "from sklearn.feature_extraction.text import TfidfVectorizer\n",
    "from sklearn.metrics.pairwise import cosine_similarity\n"
   ]
  },
  {
   "cell_type": "code",
   "execution_count": 22,
   "id": "54ec3bf7",
   "metadata": {},
   "outputs": [],
   "source": [
    "tfidf = TfidfVectorizer()\n",
    "matrix = tfidf.fit_transform(df['new_col'])\n",
    "similarity = cosine_similarity(matrix)"
   ]
  },
  {
   "cell_type": "code",
   "execution_count": 24,
   "id": "a949fdb0",
   "metadata": {},
   "outputs": [
    {
     "data": {
      "text/plain": [
       "array([[1.        , 0.10060903, 0.        , ..., 0.        , 0.11182523,\n",
       "        0.        ],\n",
       "       [0.10060903, 1.        , 0.        , ..., 0.        , 0.        ,\n",
       "        0.        ],\n",
       "       [0.        , 0.        , 1.        , ..., 0.        , 0.        ,\n",
       "        0.0783045 ],\n",
       "       ...,\n",
       "       [0.        , 0.        , 0.        , ..., 1.        , 0.        ,\n",
       "        0.        ],\n",
       "       [0.11182523, 0.        , 0.        , ..., 0.        , 1.        ,\n",
       "        0.        ],\n",
       "       [0.        , 0.        , 0.0783045 , ..., 0.        , 0.        ,\n",
       "        1.        ]])"
      ]
     },
     "execution_count": 24,
     "metadata": {},
     "output_type": "execute_result"
    }
   ],
   "source": [
    "similarity"
   ]
  },
  {
   "cell_type": "code",
   "execution_count": 25,
   "id": "e87778ef",
   "metadata": {},
   "outputs": [],
   "source": [
    "def recommendation(title):\n",
    "  idx=df[df['Title']==title].index[0]\n",
    "  idx=df.index.get_loc(idx)\n",
    "  distances = sorted(list(enumerate(similarity[idx])), key=lambda x: x[1], reverse=False)[1:20]\n",
    "\n",
    "  project=[]\n",
    "  for i in distances:\n",
    "    project.append(df.iloc[i[0]].Title)\n",
    "  return project"
   ]
  },
  {
   "cell_type": "code",
   "execution_count": 26,
   "id": "17924443",
   "metadata": {},
   "outputs": [
    {
     "data": {
      "text/plain": [
       "['account need',\n",
       " 'content databas project travel compani',\n",
       " '19 sentenc record nativ english speakerfemal',\n",
       " 'show uicod text uniti text mesh pro',\n",
       " 'develop platform auto fill function applic form',\n",
       " 'look va research data entri',\n",
       " 'mobil applic',\n",
       " 'mobil anonym chat applic',\n",
       " 'site handmad jewelleri assistantcr',\n",
       " 'prepar ixbrl account',\n",
       " 'virtual assist boutiqu execut search firm mac user',\n",
       " 'mathematicianstatistician analys forex trade data',\n",
       " 'need expert youtub',\n",
       " 'need video appear 1st page googl',\n",
       " 'look femal va',\n",
       " 'facebook issu need resolv today need someon uk',\n",
       " 'look busi captur insur renew date',\n",
       " 'need one link io android app',\n",
       " 'look market assist three busi']"
      ]
     },
     "execution_count": 26,
     "metadata": {},
     "output_type": "execute_result"
    }
   ],
   "source": [
    "recommendation('banner imag web desgin websit')"
   ]
  },
  {
   "cell_type": "code",
   "execution_count": 27,
   "id": "57f1c2e4",
   "metadata": {},
   "outputs": [],
   "source": [
    "import pickle\n",
    "pickle.dump(df,open('df.pkl','wb'))\n",
    "pickle.dump(similarity,open('similarity.pkl','wb'))"
   ]
  },
  {
   "cell_type": "code",
   "execution_count": null,
   "id": "468742b8",
   "metadata": {},
   "outputs": [],
   "source": []
  },
  {
   "cell_type": "code",
   "execution_count": null,
   "id": "4961396b",
   "metadata": {},
   "outputs": [],
   "source": []
  }
 ],
 "metadata": {
  "kernelspec": {
   "display_name": "base",
   "language": "python",
   "name": "python3"
  },
  "language_info": {
   "codemirror_mode": {
    "name": "ipython",
    "version": 3
   },
   "file_extension": ".py",
   "mimetype": "text/x-python",
   "name": "python",
   "nbconvert_exporter": "python",
   "pygments_lexer": "ipython3",
   "version": "3.12.4"
  }
 },
 "nbformat": 4,
 "nbformat_minor": 5
}
